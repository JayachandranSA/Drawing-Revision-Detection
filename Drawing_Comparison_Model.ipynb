{
  "nbformat": 4,
  "nbformat_minor": 0,
  "metadata": {
    "colab": {
      "provenance": []
    },
    "kernelspec": {
      "name": "python3",
      "display_name": "Python 3"
    },
    "language_info": {
      "name": "python"
    }
  },
  "cells": [
    {
      "cell_type": "markdown",
      "source": [
        "##Drawing Difference Detection Model"
      ],
      "metadata": {
        "id": "0LgzM7y5wVLO"
      }
    },
    {
      "cell_type": "code",
      "source": [
        "#Import Necessary Libraries\n",
        "import cv2\n",
        "import numpy as np\n",
        "from skimage.metrics import structural_similarity as ssim\n",
        "import matplotlib.pyplot as plt\n",
        "import os"
      ],
      "metadata": {
        "id": "lXPWMpJYF3KM"
      },
      "execution_count": 5,
      "outputs": []
    },
    {
      "cell_type": "code",
      "source": [
        "def detect_and_visualize_differences(image1_path, image2_path):\n",
        "    \"\"\"\n",
        "    Detects and visualizes differences between two images.\n",
        "\n",
        "    Parameters:\n",
        "    - image1_path: Path to the first (old) image.\n",
        "    - image2_path: Path to the second (new) image.\n",
        "    \"\"\"\n",
        "\n",
        "    # Load images\n",
        "    image1 = cv2.imread(image1_path)\n",
        "    image2 = cv2.imread(image2_path)\n",
        "\n",
        "    # Check if images are loaded correctly\n",
        "    if image1 is None or image2 is None:\n",
        "        print(\"Error: One or both image paths are incorrect or images are not loading.\")\n",
        "        return\n",
        "\n",
        "    # Convert images to grayscale\n",
        "    gray1 = cv2.cvtColor(image1, cv2.COLOR_BGR2GRAY)\n",
        "    gray2 = cv2.cvtColor(image2, cv2.COLOR_BGR2GRAY)\n",
        "\n",
        "    # Compute Structural Similarity Index (SSIM) between images\n",
        "    score, diff = ssim(gray1, gray2, full=True)\n",
        "    print(f\"SSIM Score: {score:.4f}\")\n",
        "\n",
        "    # Normalize difference image to range [0,255]\n",
        "    diff = (diff * 255).astype(\"uint8\")\n",
        "\n",
        "    # Apply thresholding to highlight differences\n",
        "    _, thresh = cv2.threshold(diff, 50, 255, cv2.THRESH_BINARY)\n",
        "\n",
        "    # Find contours of differences\n",
        "    contours, _ = cv2.findContours(thresh, cv2.RETR_EXTERNAL, cv2.CHAIN_APPROX_SIMPLE)\n",
        "\n",
        "    # Draw bounding boxes around differences on the original image\n",
        "    result_image = image2.copy()\n",
        "    for contour in contours:\n",
        "        x, y, w, h = cv2.boundingRect(contour)\n",
        "        cv2.rectangle(result_image, (x, y), (x + w, y + h), (0, 0, 255), 2)\n",
        "\n",
        "    # Plot original images and difference visualization\n",
        "    fig, axes = plt.subplots(1, 4, figsize=(20, 6))\n",
        "    axes[0].imshow(cv2.cvtColor(image1, cv2.COLOR_BGR2RGB))\n",
        "    axes[0].set_title(\"Old Revision\")\n",
        "    axes[0].axis(\"off\")\n",
        "\n",
        "    axes[1].imshow(cv2.cvtColor(image2, cv2.COLOR_BGR2RGB))\n",
        "    axes[1].set_title(\"New Revision\")\n",
        "    axes[1].axis(\"off\")\n",
        "\n",
        "    axes[2].imshow(diff, cmap=\"gray\")\n",
        "    axes[2].set_title(\"Difference (Grayscale)\")\n",
        "    axes[2].axis(\"off\")\n",
        "\n",
        "    axes[3].imshow(cv2.cvtColor(result_image, cv2.COLOR_BGR2RGB))\n",
        "    axes[3].set_title(\"Detected Differences\")\n",
        "    axes[3].axis(\"off\")\n",
        "\n",
        "    plt.show()\n",
        "\n"
      ],
      "metadata": {
        "id": "hD-uQNwkF7tk"
      },
      "execution_count": 2,
      "outputs": []
    },
    {
      "cell_type": "code",
      "source": [
        "# Example Usage\n",
        "if __name__ == \"__main__\":\n",
        "    base_path = \"C:/Users/admin/Desktop/images\"  # Change this path as needed\n",
        "    image1_path = os.path.join(base_path, r\"C:\\Users\\admin\\Pictures\\Screenshots\\a.png\")\n",
        "    image2_path = os.path.join(base_path, r\"C:\\Users\\admin\\Pictures\\Screenshots\\b.png\")\n",
        "\n",
        "    # image1_path = os.path.join(base_path, \"C:\\Users\\admin\\Pictures\\Screenshots\\a.png\")\n",
        "    # image2_path = os.path.join(base_path, \"C:\\Users\\admin\\Pictures\\Screenshots\\b.png\")\n",
        "\n",
        "    detect_and_visualize_differences(image1_path, image2_path)\n"
      ],
      "metadata": {
        "colab": {
          "base_uri": "https://localhost:8080/"
        },
        "id": "luuaQj7bGAyh",
        "outputId": "8dad86b0-468f-4186-b3d3-86862d21641b"
      },
      "execution_count": 3,
      "outputs": [
        {
          "output_type": "stream",
          "name": "stdout",
          "text": [
            "Error: One or both image paths are incorrect or images are not loading.\n"
          ]
        }
      ]
    },
    {
      "cell_type": "code",
      "source": [],
      "metadata": {
        "id": "6L1gYs4zGrnd"
      },
      "execution_count": 3,
      "outputs": []
    }
  ]
}